{
  "cells": [
    {
      "cell_type": "code",
      "execution_count": 1,
      "metadata": {
        "colab": {
          "base_uri": "https://localhost:8080/"
        },
        "id": "CNoXEdD-3ZmO",
        "outputId": "0566b324-08d6-4cf5-ce20-eaa39197427c"
      },
      "outputs": [
        {
          "name": "stdout",
          "output_type": "stream",
          "text": [
            "Requirement already satisfied: flask-ngrok in c:\\users\\mikhs\\appdata\\local\\programs\\python\\python38\\lib\\site-packages (0.0.25)\n",
            "Requirement already satisfied: requests in c:\\users\\mikhs\\appdata\\local\\programs\\python\\python38\\lib\\site-packages (from flask-ngrok) (2.28.1)\n",
            "Requirement already satisfied: Flask>=0.8 in c:\\users\\mikhs\\appdata\\local\\programs\\python\\python38\\lib\\site-packages (from flask-ngrok) (2.2.2)\n",
            "Requirement already satisfied: urllib3<1.27,>=1.21.1 in c:\\users\\mikhs\\appdata\\local\\programs\\python\\python38\\lib\\site-packages (from requests->flask-ngrok) (1.26.13)\n",
            "Requirement already satisfied: charset-normalizer<3,>=2 in c:\\users\\mikhs\\appdata\\local\\programs\\python\\python38\\lib\\site-packages (from requests->flask-ngrok) (2.1.1)\n",
            "Requirement already satisfied: idna<4,>=2.5 in c:\\users\\mikhs\\appdata\\local\\programs\\python\\python38\\lib\\site-packages (from requests->flask-ngrok) (3.4)\n",
            "Requirement already satisfied: certifi>=2017.4.17 in c:\\users\\mikhs\\appdata\\local\\programs\\python\\python38\\lib\\site-packages (from requests->flask-ngrok) (2022.12.7)\n",
            "Requirement already satisfied: importlib-metadata>=3.6.0; python_version < \"3.10\" in c:\\users\\mikhs\\appdata\\local\\programs\\python\\python38\\lib\\site-packages (from Flask>=0.8->flask-ngrok) (5.2.0)\n",
            "Requirement already satisfied: Jinja2>=3.0 in c:\\users\\mikhs\\appdata\\local\\programs\\python\\python38\\lib\\site-packages (from Flask>=0.8->flask-ngrok) (3.1.2)\n",
            "Requirement already satisfied: click>=8.0 in c:\\users\\mikhs\\appdata\\local\\programs\\python\\python38\\lib\\site-packages (from Flask>=0.8->flask-ngrok) (8.1.3)\n",
            "Requirement already satisfied: itsdangerous>=2.0 in c:\\users\\mikhs\\appdata\\local\\programs\\python\\python38\\lib\\site-packages (from Flask>=0.8->flask-ngrok) (2.1.2)\n",
            "Requirement already satisfied: Werkzeug>=2.2.2 in c:\\users\\mikhs\\appdata\\local\\programs\\python\\python38\\lib\\site-packages (from Flask>=0.8->flask-ngrok) (2.2.2)\n",
            "Requirement already satisfied: zipp>=0.5 in c:\\users\\mikhs\\appdata\\local\\programs\\python\\python38\\lib\\site-packages (from importlib-metadata>=3.6.0; python_version < \"3.10\"->Flask>=0.8->flask-ngrok) (3.11.0)\n",
            "Requirement already satisfied: MarkupSafe>=2.0 in c:\\users\\mikhs\\appdata\\local\\programs\\python\\python38\\lib\\site-packages (from Jinja2>=3.0->Flask>=0.8->flask-ngrok) (2.1.1)\n",
            "Requirement already satisfied: colorama; platform_system == \"Windows\" in c:\\users\\mikhs\\appdata\\roaming\\python\\python38\\site-packages (from click>=8.0->Flask>=0.8->flask-ngrok) (0.4.6)\n"
          ]
        },
        {
          "name": "stderr",
          "output_type": "stream",
          "text": [
            "WARNING: You are using pip version 20.1.1; however, version 22.3.1 is available.\n",
            "You should consider upgrading via the 'c:\\users\\mikhs\\appdata\\local\\programs\\python\\python38\\python.exe -m pip install --upgrade pip' command.\n"
          ]
        },
        {
          "name": "stdout",
          "output_type": "stream",
          "text": [
            "Requirement already satisfied: gevent in c:\\users\\mikhs\\appdata\\local\\programs\\python\\python38\\lib\\site-packages (22.10.2)\n",
            "Requirement already satisfied: greenlet>=2.0.0; platform_python_implementation == \"CPython\" in c:\\users\\mikhs\\appdata\\local\\programs\\python\\python38\\lib\\site-packages (from gevent) (2.0.1)\n",
            "Requirement already satisfied: zope.interface in c:\\users\\mikhs\\appdata\\local\\programs\\python\\python38\\lib\\site-packages (from gevent) (5.5.2)\n",
            "Requirement already satisfied: setuptools in c:\\users\\mikhs\\appdata\\local\\programs\\python\\python38\\lib\\site-packages (from gevent) (47.1.0)\n",
            "Requirement already satisfied: zope.event in c:\\users\\mikhs\\appdata\\local\\programs\\python\\python38\\lib\\site-packages (from gevent) (4.6)\n",
            "Requirement already satisfied: cffi>=1.12.2; platform_python_implementation == \"CPython\" and sys_platform == \"win32\" in c:\\users\\mikhs\\appdata\\local\\programs\\python\\python38\\lib\\site-packages (from gevent) (1.15.1)\n",
            "Requirement already satisfied: pycparser in c:\\users\\mikhs\\appdata\\local\\programs\\python\\python38\\lib\\site-packages (from cffi>=1.12.2; platform_python_implementation == \"CPython\" and sys_platform == \"win32\"->gevent) (2.21)\n"
          ]
        },
        {
          "name": "stderr",
          "output_type": "stream",
          "text": [
            "WARNING: You are using pip version 20.1.1; however, version 22.3.1 is available.\n",
            "You should consider upgrading via the 'c:\\users\\mikhs\\appdata\\local\\programs\\python\\python38\\python.exe -m pip install --upgrade pip' command.\n"
          ]
        },
        {
          "name": "stdout",
          "output_type": "stream",
          "text": [
            "Requirement already satisfied: flask in c:\\users\\mikhs\\appdata\\local\\programs\\python\\python38\\lib\\site-packages (2.2.2)\n",
            "Requirement already satisfied: Jinja2>=3.0 in c:\\users\\mikhs\\appdata\\local\\programs\\python\\python38\\lib\\site-packages (from flask) (3.1.2)\n",
            "Requirement already satisfied: importlib-metadata>=3.6.0; python_version < \"3.10\" in c:\\users\\mikhs\\appdata\\local\\programs\\python\\python38\\lib\\site-packages (from flask) (5.2.0)\n",
            "Requirement already satisfied: itsdangerous>=2.0 in c:\\users\\mikhs\\appdata\\local\\programs\\python\\python38\\lib\\site-packages (from flask) (2.1.2)\n",
            "Requirement already satisfied: click>=8.0 in c:\\users\\mikhs\\appdata\\local\\programs\\python\\python38\\lib\\site-packages (from flask) (8.1.3)\n",
            "Requirement already satisfied: Werkzeug>=2.2.2 in c:\\users\\mikhs\\appdata\\local\\programs\\python\\python38\\lib\\site-packages (from flask) (2.2.2)\n",
            "Requirement already satisfied: MarkupSafe>=2.0 in c:\\users\\mikhs\\appdata\\local\\programs\\python\\python38\\lib\\site-packages (from Jinja2>=3.0->flask) (2.1.1)\n",
            "Requirement already satisfied: zipp>=0.5 in c:\\users\\mikhs\\appdata\\local\\programs\\python\\python38\\lib\\site-packages (from importlib-metadata>=3.6.0; python_version < \"3.10\"->flask) (3.11.0)\n",
            "Requirement already satisfied: colorama; platform_system == \"Windows\" in c:\\users\\mikhs\\appdata\\roaming\\python\\python38\\site-packages (from click>=8.0->flask) (0.4.6)\n"
          ]
        },
        {
          "name": "stderr",
          "output_type": "stream",
          "text": [
            "WARNING: You are using pip version 20.1.1; however, version 22.3.1 is available.\n",
            "You should consider upgrading via the 'c:\\users\\mikhs\\appdata\\local\\programs\\python\\python38\\python.exe -m pip install --upgrade pip' command.\n"
          ]
        },
        {
          "name": "stdout",
          "output_type": "stream",
          "text": [
            "Requirement already satisfied: keras in c:\\users\\mikhs\\appdata\\local\\programs\\python\\python38\\lib\\site-packages (2.11.0)\n"
          ]
        },
        {
          "name": "stderr",
          "output_type": "stream",
          "text": [
            "WARNING: You are using pip version 20.1.1; however, version 22.3.1 is available.\n",
            "You should consider upgrading via the 'c:\\users\\mikhs\\appdata\\local\\programs\\python\\python38\\python.exe -m pip install --upgrade pip' command.\n"
          ]
        },
        {
          "name": "stdout",
          "output_type": "stream",
          "text": [
            "Requirement already satisfied: tensorflow in c:\\users\\mikhs\\appdata\\local\\programs\\python\\python38\\lib\\site-packages (2.11.0)"
          ]
        },
        {
          "name": "stderr",
          "output_type": "stream",
          "text": [
            "WARNING: You are using pip version 20.1.1; however, version 22.3.1 is available.\n",
            "You should consider upgrading via the 'c:\\users\\mikhs\\appdata\\local\\programs\\python\\python38\\python.exe -m pip install --upgrade pip' command.\n"
          ]
        },
        {
          "name": "stdout",
          "output_type": "stream",
          "text": [
            "\n",
            "Requirement already satisfied: tensorflow-intel==2.11.0; platform_system == \"Windows\" in c:\\users\\mikhs\\appdata\\local\\programs\\python\\python38\\lib\\site-packages (from tensorflow) (2.11.0)\n",
            "Requirement already satisfied: flatbuffers>=2.0 in c:\\users\\mikhs\\appdata\\local\\programs\\python\\python38\\lib\\site-packages (from tensorflow-intel==2.11.0; platform_system == \"Windows\"->tensorflow) (22.12.6)\n",
            "Requirement already satisfied: termcolor>=1.1.0 in c:\\users\\mikhs\\appdata\\local\\programs\\python\\python38\\lib\\site-packages (from tensorflow-intel==2.11.0; platform_system == \"Windows\"->tensorflow) (2.1.1)\n",
            "Requirement already satisfied: protobuf<3.20,>=3.9.2 in c:\\users\\mikhs\\appdata\\local\\programs\\python\\python38\\lib\\site-packages (from tensorflow-intel==2.11.0; platform_system == \"Windows\"->tensorflow) (3.19.6)\n",
            "Requirement already satisfied: tensorboard<2.12,>=2.11 in c:\\users\\mikhs\\appdata\\local\\programs\\python\\python38\\lib\\site-packages (from tensorflow-intel==2.11.0; platform_system == \"Windows\"->tensorflow) (2.11.0)\n",
            "Requirement already satisfied: setuptools in c:\\users\\mikhs\\appdata\\local\\programs\\python\\python38\\lib\\site-packages (from tensorflow-intel==2.11.0; platform_system == \"Windows\"->tensorflow) (47.1.0)\n",
            "Requirement already satisfied: gast<=0.4.0,>=0.2.1 in c:\\users\\mikhs\\appdata\\local\\programs\\python\\python38\\lib\\site-packages (from tensorflow-intel==2.11.0; platform_system == \"Windows\"->tensorflow) (0.4.0)\n",
            "Requirement already satisfied: six>=1.12.0 in c:\\users\\mikhs\\appdata\\roaming\\python\\python38\\site-packages (from tensorflow-intel==2.11.0; platform_system == \"Windows\"->tensorflow) (1.16.0)\n",
            "Requirement already satisfied: opt-einsum>=2.3.2 in c:\\users\\mikhs\\appdata\\local\\programs\\python\\python38\\lib\\site-packages (from tensorflow-intel==2.11.0; platform_system == \"Windows\"->tensorflow) (3.3.0)\n",
            "Requirement already satisfied: typing-extensions>=3.6.6 in c:\\users\\mikhs\\appdata\\local\\programs\\python\\python38\\lib\\site-packages (from tensorflow-intel==2.11.0; platform_system == \"Windows\"->tensorflow) (4.4.0)\n",
            "Requirement already satisfied: tensorflow-estimator<2.12,>=2.11.0 in c:\\users\\mikhs\\appdata\\local\\programs\\python\\python38\\lib\\site-packages (from tensorflow-intel==2.11.0; platform_system == \"Windows\"->tensorflow) (2.11.0)\n",
            "Requirement already satisfied: wrapt>=1.11.0 in c:\\users\\mikhs\\appdata\\local\\programs\\python\\python38\\lib\\site-packages (from tensorflow-intel==2.11.0; platform_system == \"Windows\"->tensorflow) (1.14.1)\n",
            "Requirement already satisfied: keras<2.12,>=2.11.0 in c:\\users\\mikhs\\appdata\\local\\programs\\python\\python38\\lib\\site-packages (from tensorflow-intel==2.11.0; platform_system == \"Windows\"->tensorflow) (2.11.0)\n",
            "Requirement already satisfied: h5py>=2.9.0 in c:\\users\\mikhs\\appdata\\local\\programs\\python\\python38\\lib\\site-packages (from tensorflow-intel==2.11.0; platform_system == \"Windows\"->tensorflow) (3.7.0)\n",
            "Requirement already satisfied: astunparse>=1.6.0 in c:\\users\\mikhs\\appdata\\local\\programs\\python\\python38\\lib\\site-packages (from tensorflow-intel==2.11.0; platform_system == \"Windows\"->tensorflow) (1.6.3)\n",
            "Requirement already satisfied: numpy>=1.20 in c:\\users\\mikhs\\appdata\\local\\programs\\python\\python38\\lib\\site-packages (from tensorflow-intel==2.11.0; platform_system == \"Windows\"->tensorflow) (1.24.0)\n",
            "Requirement already satisfied: google-pasta>=0.1.1 in c:\\users\\mikhs\\appdata\\local\\programs\\python\\python38\\lib\\site-packages (from tensorflow-intel==2.11.0; platform_system == \"Windows\"->tensorflow) (0.2.0)\n",
            "Requirement already satisfied: libclang>=13.0.0 in c:\\users\\mikhs\\appdata\\local\\programs\\python\\python38\\lib\\site-packages (from tensorflow-intel==2.11.0; platform_system == \"Windows\"->tensorflow) (14.0.6)\n",
            "Requirement already satisfied: absl-py>=1.0.0 in c:\\users\\mikhs\\appdata\\local\\programs\\python\\python38\\lib\\site-packages (from tensorflow-intel==2.11.0; platform_system == \"Windows\"->tensorflow) (1.3.0)\n",
            "Requirement already satisfied: grpcio<2.0,>=1.24.3 in c:\\users\\mikhs\\appdata\\local\\programs\\python\\python38\\lib\\site-packages (from tensorflow-intel==2.11.0; platform_system == \"Windows\"->tensorflow) (1.51.1)\n",
            "Requirement already satisfied: packaging in c:\\users\\mikhs\\appdata\\roaming\\python\\python38\\site-packages (from tensorflow-intel==2.11.0; platform_system == \"Windows\"->tensorflow) (22.0)\n",
            "Requirement already satisfied: tensorflow-io-gcs-filesystem>=0.23.1; platform_machine != \"arm64\" or platform_system != \"Darwin\" in c:\\users\\mikhs\\appdata\\local\\programs\\python\\python38\\lib\\site-packages (from tensorflow-intel==2.11.0; platform_system == \"Windows\"->tensorflow) (0.29.0)\n",
            "Requirement already satisfied: requests<3,>=2.21.0 in c:\\users\\mikhs\\appdata\\local\\programs\\python\\python38\\lib\\site-packages (from tensorboard<2.12,>=2.11->tensorflow-intel==2.11.0; platform_system == \"Windows\"->tensorflow) (2.28.1)\n",
            "Requirement already satisfied: werkzeug>=1.0.1 in c:\\users\\mikhs\\appdata\\local\\programs\\python\\python38\\lib\\site-packages (from tensorboard<2.12,>=2.11->tensorflow-intel==2.11.0; platform_system == \"Windows\"->tensorflow) (2.2.2)\n",
            "Requirement already satisfied: google-auth<3,>=1.6.3 in c:\\users\\mikhs\\appdata\\local\\programs\\python\\python38\\lib\\site-packages (from tensorboard<2.12,>=2.11->tensorflow-intel==2.11.0; platform_system == \"Windows\"->tensorflow) (2.15.0)\n",
            "Requirement already satisfied: markdown>=2.6.8 in c:\\users\\mikhs\\appdata\\local\\programs\\python\\python38\\lib\\site-packages (from tensorboard<2.12,>=2.11->tensorflow-intel==2.11.0; platform_system == \"Windows\"->tensorflow) (3.4.1)\n",
            "Requirement already satisfied: tensorboard-data-server<0.7.0,>=0.6.0 in c:\\users\\mikhs\\appdata\\local\\programs\\python\\python38\\lib\\site-packages (from tensorboard<2.12,>=2.11->tensorflow-intel==2.11.0; platform_system == \"Windows\"->tensorflow) (0.6.1)\n",
            "Requirement already satisfied: wheel>=0.26 in c:\\users\\mikhs\\appdata\\local\\programs\\python\\python38\\lib\\site-packages (from tensorboard<2.12,>=2.11->tensorflow-intel==2.11.0; platform_system == \"Windows\"->tensorflow) (0.38.4)\n",
            "Requirement already satisfied: google-auth-oauthlib<0.5,>=0.4.1 in c:\\users\\mikhs\\appdata\\local\\programs\\python\\python38\\lib\\site-packages (from tensorboard<2.12,>=2.11->tensorflow-intel==2.11.0; platform_system == \"Windows\"->tensorflow) (0.4.6)\n",
            "Requirement already satisfied: tensorboard-plugin-wit>=1.6.0 in c:\\users\\mikhs\\appdata\\local\\programs\\python\\python38\\lib\\site-packages (from tensorboard<2.12,>=2.11->tensorflow-intel==2.11.0; platform_system == \"Windows\"->tensorflow) (1.8.1)\n",
            "Requirement already satisfied: urllib3<1.27,>=1.21.1 in c:\\users\\mikhs\\appdata\\local\\programs\\python\\python38\\lib\\site-packages (from requests<3,>=2.21.0->tensorboard<2.12,>=2.11->tensorflow-intel==2.11.0; platform_system == \"Windows\"->tensorflow) (1.26.13)\n",
            "Requirement already satisfied: idna<4,>=2.5 in c:\\users\\mikhs\\appdata\\local\\programs\\python\\python38\\lib\\site-packages (from requests<3,>=2.21.0->tensorboard<2.12,>=2.11->tensorflow-intel==2.11.0; platform_system == \"Windows\"->tensorflow) (3.4)\n",
            "Requirement already satisfied: charset-normalizer<3,>=2 in c:\\users\\mikhs\\appdata\\local\\programs\\python\\python38\\lib\\site-packages (from requests<3,>=2.21.0->tensorboard<2.12,>=2.11->tensorflow-intel==2.11.0; platform_system == \"Windows\"->tensorflow) (2.1.1)\n",
            "Requirement already satisfied: certifi>=2017.4.17 in c:\\users\\mikhs\\appdata\\local\\programs\\python\\python38\\lib\\site-packages (from requests<3,>=2.21.0->tensorboard<2.12,>=2.11->tensorflow-intel==2.11.0; platform_system == \"Windows\"->tensorflow) (2022.12.7)\n",
            "Requirement already satisfied: MarkupSafe>=2.1.1 in c:\\users\\mikhs\\appdata\\local\\programs\\python\\python38\\lib\\site-packages (from werkzeug>=1.0.1->tensorboard<2.12,>=2.11->tensorflow-intel==2.11.0; platform_system == \"Windows\"->tensorflow) (2.1.1)\n",
            "Requirement already satisfied: cachetools<6.0,>=2.0.0 in c:\\users\\mikhs\\appdata\\local\\programs\\python\\python38\\lib\\site-packages (from google-auth<3,>=1.6.3->tensorboard<2.12,>=2.11->tensorflow-intel==2.11.0; platform_system == \"Windows\"->tensorflow) (5.2.0)\n",
            "Requirement already satisfied: pyasn1-modules>=0.2.1 in c:\\users\\mikhs\\appdata\\local\\programs\\python\\python38\\lib\\site-packages (from google-auth<3,>=1.6.3->tensorboard<2.12,>=2.11->tensorflow-intel==2.11.0; platform_system == \"Windows\"->tensorflow) (0.2.8)\n",
            "Requirement already satisfied: rsa<5,>=3.1.4; python_version >= \"3.6\" in c:\\users\\mikhs\\appdata\\local\\programs\\python\\python38\\lib\\site-packages (from google-auth<3,>=1.6.3->tensorboard<2.12,>=2.11->tensorflow-intel==2.11.0; platform_system == \"Windows\"->tensorflow) (4.9)\n",
            "Requirement already satisfied: importlib-metadata>=4.4; python_version < \"3.10\" in c:\\users\\mikhs\\appdata\\local\\programs\\python\\python38\\lib\\site-packages (from markdown>=2.6.8->tensorboard<2.12,>=2.11->tensorflow-intel==2.11.0; platform_system == \"Windows\"->tensorflow) (5.2.0)\n",
            "Requirement already satisfied: requests-oauthlib>=0.7.0 in c:\\users\\mikhs\\appdata\\local\\programs\\python\\python38\\lib\\site-packages (from google-auth-oauthlib<0.5,>=0.4.1->tensorboard<2.12,>=2.11->tensorflow-intel==2.11.0; platform_system == \"Windows\"->tensorflow) (1.3.1)\n",
            "Requirement already satisfied: pyasn1<0.5.0,>=0.4.6 in c:\\users\\mikhs\\appdata\\local\\programs\\python\\python38\\lib\\site-packages (from pyasn1-modules>=0.2.1->google-auth<3,>=1.6.3->tensorboard<2.12,>=2.11->tensorflow-intel==2.11.0; platform_system == \"Windows\"->tensorflow) (0.4.8)\n",
            "Requirement already satisfied: zipp>=0.5 in c:\\users\\mikhs\\appdata\\local\\programs\\python\\python38\\lib\\site-packages (from importlib-metadata>=4.4; python_version < \"3.10\"->markdown>=2.6.8->tensorboard<2.12,>=2.11->tensorflow-intel==2.11.0; platform_system == \"Windows\"->tensorflow) (3.11.0)\n",
            "Requirement already satisfied: oauthlib>=3.0.0 in c:\\users\\mikhs\\appdata\\local\\programs\\python\\python38\\lib\\site-packages (from requests-oauthlib>=0.7.0->google-auth-oauthlib<0.5,>=0.4.1->tensorboard<2.12,>=2.11->tensorflow-intel==2.11.0; platform_system == \"Windows\"->tensorflow) (3.2.2)\n"
          ]
        }
      ],
      "source": [
        "!pip install flask-ngrok\n",
        "!pip install gevent\n",
        "!pip install flask\n",
        "!pip install keras\n",
        "!pip install tensorflow"
      ]
    },
    {
      "cell_type": "code",
      "execution_count": 2,
      "metadata": {
        "id": "1Skr1YGt3ed5"
      },
      "outputs": [],
      "source": [
        "from __future__ import division, print_function\n",
        "# coding=utf-8\n",
        "import sys\n",
        "import os\n",
        "import glob\n",
        "import re\n",
        "import numpy as np\n",
        "\n",
        "# Keras\n",
        "from keras.applications.imagenet_utils import preprocess_input, decode_predictions\n",
        "from keras.models import load_model\n",
        "from keras.preprocessing import image\n",
        "\n",
        "# Flask utils\n",
        "from flask import Flask, redirect, url_for, request, render_template\n",
        "from werkzeug.utils import secure_filename\n",
        "from gevent.pywsgi import WSGIServer\n"
      ]
    },
    {
      "cell_type": "code",
      "execution_count": 3,
      "metadata": {},
      "outputs": [
        {
          "name": "stdout",
          "output_type": "stream",
          "text": [
            "Requirement already satisfied: pandas in c:\\users\\mikhs\\appdata\\local\\programs\\python\\python38\\lib\\site-packages (1.5.2)\n",
            "Requirement already satisfied: numpy>=1.20.3; python_version < \"3.10\" in c:\\users\\mikhs\\appdata\\local\\programs\\python\\python38\\lib\\site-packages (from pandas) (1.24.0)\n",
            "Requirement already satisfied: pytz>=2020.1 in c:\\users\\mikhs\\appdata\\local\\programs\\python\\python38\\lib\\site-packages (from pandas) (2022.7)\n",
            "Requirement already satisfied: python-dateutil>=2.8.1 in c:\\users\\mikhs\\appdata\\roaming\\python\\python38\\site-packages (from pandas) (2.8.2)\n",
            "Requirement already satisfied: six>=1.5 in c:\\users\\mikhs\\appdata\\roaming\\python\\python38\\site-packages (from python-dateutil>=2.8.1->pandas) (1.16.0)\n"
          ]
        },
        {
          "name": "stderr",
          "output_type": "stream",
          "text": [
            "WARNING: You are using pip version 20.1.1; however, version 22.3.1 is available.\n",
            "You should consider upgrading via the 'c:\\users\\mikhs\\appdata\\local\\programs\\python\\python38\\python.exe -m pip install --upgrade pip' command.\n"
          ]
        }
      ],
      "source": [
        "!pip install pandas"
      ]
    },
    {
      "cell_type": "code",
      "execution_count": 4,
      "metadata": {
        "id": "7IV2TR9Txsnv"
      },
      "outputs": [],
      "source": [
        "import flask\n",
        "from flask import request\n",
        "import pandas as pd\n",
        "import tensorflow as tf\n",
        "import keras\n",
        "import numpy as np\n",
        "import random\n",
        "import os\n",
        "from os.path import join, dirname, realpath\n",
        "from tensorflow.keras.preprocessing.image import img_to_array, load_img\n",
        "from flask_ngrok import run_with_ngrok\n",
        "from werkzeug.utils import secure_filename"
      ]
    },
    {
      "cell_type": "code",
      "execution_count": 5,
      "metadata": {
        "id": "K2Ixk3psx2P_"
      },
      "outputs": [],
      "source": [
        "app = Flask(__name__)\n",
        "\n",
        "model = tf.keras.models.load_model('DatasetLemon.h5')\n",
        "run_with_ngrok(app) \n"
      ]
    },
    {
      "cell_type": "code",
      "execution_count": 6,
      "metadata": {},
      "outputs": [
        {
          "name": "stdout",
          "output_type": "stream",
          "text": [
            "Requirement already satisfied: pillow in c:\\users\\mikhs\\appdata\\local\\programs\\python\\python38\\lib\\site-packages (9.3.0)\n"
          ]
        },
        {
          "name": "stderr",
          "output_type": "stream",
          "text": [
            "WARNING: You are using pip version 20.1.1; however, version 22.3.1 is available.\n",
            "You should consider upgrading via the 'c:\\users\\mikhs\\appdata\\local\\programs\\python\\python38\\python.exe -m pip install --upgrade pip' command.\n"
          ]
        }
      ],
      "source": [
        "!pip install pillow"
      ]
    },
    {
      "cell_type": "code",
      "execution_count": 7,
      "metadata": {
        "colab": {
          "base_uri": "https://localhost:8080/"
        },
        "id": "2E_aj4mIyERG",
        "outputId": "b8969846-02c1-4db9-dc52-a3b35f43afd6"
      },
      "outputs": [
        {
          "name": "stdout",
          "output_type": "stream",
          "text": [
            " * Serving Flask app '__main__'\n",
            " * Debug mode: off\n"
          ]
        },
        {
          "name": "stderr",
          "output_type": "stream",
          "text": [
            "WARNING: This is a development server. Do not use it in a production deployment. Use a production WSGI server instead.\n",
            " * Running on http://127.0.0.1:5000\n",
            "Press CTRL+C to quit\n"
          ]
        },
        {
          "name": "stdout",
          "output_type": "stream",
          "text": [
            "1/1 [==============================] - 0s 494ms/step\n"
          ]
        },
        {
          "name": "stderr",
          "output_type": "stream",
          "text": [
            "127.0.0.1 - - [26/Jan/2023 13:16:08] \"POST /predict HTTP/1.1\" 200 -\n"
          ]
        },
        {
          "name": "stdout",
          "output_type": "stream",
          "text": [
            "{'success': True, 'file': 'File berhasil di simpan', 'label': 0}\n",
            " * Running on http://3569-116-206-36-27.ngrok.io\n",
            " * Traffic stats available on http://127.0.0.1:4040\n",
            "1/1 [==============================] - 0s 56ms/step\n"
          ]
        },
        {
          "name": "stderr",
          "output_type": "stream",
          "text": [
            "127.0.0.1 - - [26/Jan/2023 13:19:50] \"POST /predict HTTP/1.1\" 200 -\n"
          ]
        },
        {
          "name": "stdout",
          "output_type": "stream",
          "text": [
            "{'success': True, 'file': 'File berhasil di simpan', 'label': 1}\n",
            "1/1 [==============================] - 0s 45ms/step\n"
          ]
        },
        {
          "name": "stderr",
          "output_type": "stream",
          "text": [
            "127.0.0.1 - - [26/Jan/2023 13:19:52] \"POST /predict HTTP/1.1\" 200 -\n"
          ]
        },
        {
          "name": "stdout",
          "output_type": "stream",
          "text": [
            "{'success': True, 'file': 'File berhasil di simpan', 'label': 1}\n",
            "1/1 [==============================] - 0s 62ms/step\n"
          ]
        },
        {
          "name": "stderr",
          "output_type": "stream",
          "text": [
            "127.0.0.1 - - [26/Jan/2023 13:19:56] \"POST /predict HTTP/1.1\" 200 -\n"
          ]
        },
        {
          "name": "stdout",
          "output_type": "stream",
          "text": [
            "{'success': True, 'file': 'File berhasil di simpan', 'label': 1}\n",
            "1/1 [==============================] - 0s 42ms/step\n"
          ]
        },
        {
          "name": "stderr",
          "output_type": "stream",
          "text": [
            "127.0.0.1 - - [26/Jan/2023 13:20:01] \"POST /predict HTTP/1.1\" 200 -\n"
          ]
        },
        {
          "name": "stdout",
          "output_type": "stream",
          "text": [
            "{'success': True, 'file': 'File berhasil di simpan', 'label': 1}\n",
            "1/1 [==============================] - 0s 53ms/step\n"
          ]
        },
        {
          "name": "stderr",
          "output_type": "stream",
          "text": [
            "127.0.0.1 - - [26/Jan/2023 13:20:08] \"POST /predict HTTP/1.1\" 200 -\n"
          ]
        },
        {
          "name": "stdout",
          "output_type": "stream",
          "text": [
            "{'success': True, 'file': 'File berhasil di simpan', 'label': 1}\n",
            "1/1 [==============================] - 0s 43ms/step\n"
          ]
        },
        {
          "name": "stderr",
          "output_type": "stream",
          "text": [
            "127.0.0.1 - - [26/Jan/2023 13:20:17] \"POST /predict HTTP/1.1\" 200 -\n"
          ]
        },
        {
          "name": "stdout",
          "output_type": "stream",
          "text": [
            "{'success': True, 'file': 'File berhasil di simpan', 'label': 1}\n",
            "1/1 [==============================] - 0s 46ms/step\n"
          ]
        },
        {
          "name": "stderr",
          "output_type": "stream",
          "text": [
            "127.0.0.1 - - [26/Jan/2023 13:20:17] \"POST /predict HTTP/1.1\" 200 -\n"
          ]
        },
        {
          "name": "stdout",
          "output_type": "stream",
          "text": [
            "{'success': True, 'file': 'File berhasil di simpan', 'label': 1}\n",
            "1/1 [==============================] - 0s 52ms/step\n"
          ]
        },
        {
          "name": "stderr",
          "output_type": "stream",
          "text": [
            "127.0.0.1 - - [26/Jan/2023 13:20:38] \"POST /predict HTTP/1.1\" 200 -\n"
          ]
        },
        {
          "name": "stdout",
          "output_type": "stream",
          "text": [
            "{'success': True, 'file': 'File berhasil di simpan', 'label': 0}\n",
            "1/1 [==============================] - 0s 50ms/step\n"
          ]
        },
        {
          "name": "stderr",
          "output_type": "stream",
          "text": [
            "127.0.0.1 - - [26/Jan/2023 13:21:00] \"POST /predict HTTP/1.1\" 200 -\n"
          ]
        },
        {
          "name": "stdout",
          "output_type": "stream",
          "text": [
            "{'success': True, 'file': 'File berhasil di simpan', 'label': 1}\n"
          ]
        },
        {
          "name": "stderr",
          "output_type": "stream",
          "text": [
            "127.0.0.1 - - [26/Jan/2023 13:24:18] \"POST /predict HTTP/1.1\" 400 -\n",
            "127.0.0.1 - - [26/Jan/2023 13:24:19] \"POST /predict HTTP/1.1\" 400 -\n",
            "127.0.0.1 - - [26/Jan/2023 13:24:19] \"POST /predict HTTP/1.1\" 400 -\n",
            "127.0.0.1 - - [26/Jan/2023 13:24:19] \"POST /predict HTTP/1.1\" 400 -\n",
            "127.0.0.1 - - [26/Jan/2023 13:24:19] \"POST /predict HTTP/1.1\" 400 -\n"
          ]
        },
        {
          "name": "stdout",
          "output_type": "stream",
          "text": [
            "1/1 [==============================] - 0s 70ms/step\n"
          ]
        },
        {
          "name": "stderr",
          "output_type": "stream",
          "text": [
            "127.0.0.1 - - [26/Jan/2023 13:24:32] \"POST /predict HTTP/1.1\" 200 -\n"
          ]
        },
        {
          "name": "stdout",
          "output_type": "stream",
          "text": [
            "{'success': True, 'file': 'File berhasil di simpan', 'label': 1}\n",
            "1/1 [==============================] - 0s 47ms/step\n"
          ]
        },
        {
          "name": "stderr",
          "output_type": "stream",
          "text": [
            "127.0.0.1 - - [26/Jan/2023 13:24:35] \"POST /predict HTTP/1.1\" 200 -\n"
          ]
        },
        {
          "name": "stdout",
          "output_type": "stream",
          "text": [
            "{'success': True, 'file': 'File berhasil di simpan', 'label': 1}\n",
            "1/1 [==============================] - 0s 46ms/step\n"
          ]
        },
        {
          "name": "stderr",
          "output_type": "stream",
          "text": [
            "127.0.0.1 - - [26/Jan/2023 13:24:35] \"POST /predict HTTP/1.1\" 200 -\n"
          ]
        },
        {
          "name": "stdout",
          "output_type": "stream",
          "text": [
            "{'success': True, 'file': 'File berhasil di simpan', 'label': 1}\n",
            "1/1 [==============================] - 0s 44ms/step\n"
          ]
        },
        {
          "name": "stderr",
          "output_type": "stream",
          "text": [
            "127.0.0.1 - - [26/Jan/2023 13:24:35] \"POST /predict HTTP/1.1\" 200 -\n"
          ]
        },
        {
          "name": "stdout",
          "output_type": "stream",
          "text": [
            "{'success': True, 'file': 'File berhasil di simpan', 'label': 1}\n",
            "1/1 [==============================] - 0s 44ms/step\n"
          ]
        },
        {
          "name": "stderr",
          "output_type": "stream",
          "text": [
            "127.0.0.1 - - [26/Jan/2023 13:24:35] \"POST /predict HTTP/1.1\" 200 -\n"
          ]
        },
        {
          "name": "stdout",
          "output_type": "stream",
          "text": [
            "{'success': True, 'file': 'File berhasil di simpan', 'label': 1}\n",
            "1/1 [==============================] - 0s 48ms/step\n"
          ]
        },
        {
          "name": "stderr",
          "output_type": "stream",
          "text": [
            "127.0.0.1 - - [26/Jan/2023 13:24:35] \"POST /predict HTTP/1.1\" 200 -\n"
          ]
        },
        {
          "name": "stdout",
          "output_type": "stream",
          "text": [
            "{'success': True, 'file': 'File berhasil di simpan', 'label': 1}\n",
            "1/1 [==============================] - 0s 43ms/step\n"
          ]
        },
        {
          "name": "stderr",
          "output_type": "stream",
          "text": [
            "127.0.0.1 - - [26/Jan/2023 13:24:35] \"POST /predict HTTP/1.1\" 200 -\n"
          ]
        },
        {
          "name": "stdout",
          "output_type": "stream",
          "text": [
            "{'success': True, 'file': 'File berhasil di simpan', 'label': 1}\n",
            "1/1 [==============================] - 0s 51ms/step\n"
          ]
        },
        {
          "name": "stderr",
          "output_type": "stream",
          "text": [
            "127.0.0.1 - - [26/Jan/2023 13:24:44] \"POST /predict HTTP/1.1\" 200 -\n"
          ]
        },
        {
          "name": "stdout",
          "output_type": "stream",
          "text": [
            "{'success': True, 'file': 'File berhasil di simpan', 'label': 1}\n",
            "1/1 [==============================] - 0s 56ms/step\n"
          ]
        },
        {
          "name": "stderr",
          "output_type": "stream",
          "text": [
            "127.0.0.1 - - [26/Jan/2023 13:24:55] \"POST /predict HTTP/1.1\" 200 -\n"
          ]
        },
        {
          "name": "stdout",
          "output_type": "stream",
          "text": [
            "{'success': True, 'file': 'File berhasil di simpan', 'label': 1}\n",
            "1/1 [==============================] - 0s 46ms/step\n"
          ]
        },
        {
          "name": "stderr",
          "output_type": "stream",
          "text": [
            "127.0.0.1 - - [26/Jan/2023 13:24:56] \"POST /predict HTTP/1.1\" 200 -\n"
          ]
        },
        {
          "name": "stdout",
          "output_type": "stream",
          "text": [
            "{'success': True, 'file': 'File berhasil di simpan', 'label': 1}\n",
            "1/1 [==============================] - 0s 65ms/step\n",
            "{'success': True, 'file': 'File berhasil di simpan', 'label': 1}\n"
          ]
        },
        {
          "name": "stderr",
          "output_type": "stream",
          "text": [
            "127.0.0.1 - - [26/Jan/2023 13:24:56] \"POST /predict HTTP/1.1\" 200 -\n"
          ]
        },
        {
          "name": "stdout",
          "output_type": "stream",
          "text": [
            "1/1 [==============================] - 0s 56ms/step\n"
          ]
        },
        {
          "name": "stderr",
          "output_type": "stream",
          "text": [
            "127.0.0.1 - - [26/Jan/2023 13:24:56] \"POST /predict HTTP/1.1\" 200 -\n"
          ]
        },
        {
          "name": "stdout",
          "output_type": "stream",
          "text": [
            "{'success': True, 'file': 'File berhasil di simpan', 'label': 1}\n",
            "1/1 [==============================] - 0s 56ms/step\n"
          ]
        },
        {
          "name": "stderr",
          "output_type": "stream",
          "text": [
            "127.0.0.1 - - [26/Jan/2023 13:24:57] \"POST /predict HTTP/1.1\" 200 -\n"
          ]
        },
        {
          "name": "stdout",
          "output_type": "stream",
          "text": [
            "{'success': True, 'file': 'File berhasil di simpan', 'label': 1}\n",
            "1/1 [==============================] - 0s 53ms/step\n"
          ]
        },
        {
          "name": "stderr",
          "output_type": "stream",
          "text": [
            "127.0.0.1 - - [26/Jan/2023 13:24:57] \"POST /predict HTTP/1.1\" 200 -\n"
          ]
        },
        {
          "name": "stdout",
          "output_type": "stream",
          "text": [
            "{'success': True, 'file': 'File berhasil di simpan', 'label': 1}\n",
            "1/1 [==============================] - 0s 47ms/step\n"
          ]
        },
        {
          "name": "stderr",
          "output_type": "stream",
          "text": [
            "127.0.0.1 - - [26/Jan/2023 13:24:57] \"POST /predict HTTP/1.1\" 200 -\n"
          ]
        },
        {
          "name": "stdout",
          "output_type": "stream",
          "text": [
            "{'success': True, 'file': 'File berhasil di simpan', 'label': 1}\n",
            "1/1 [==============================] - 0s 45ms/step\n"
          ]
        },
        {
          "name": "stderr",
          "output_type": "stream",
          "text": [
            "127.0.0.1 - - [26/Jan/2023 13:25:03] \"POST /predict HTTP/1.1\" 200 -\n"
          ]
        },
        {
          "name": "stdout",
          "output_type": "stream",
          "text": [
            "{'success': True, 'file': 'File berhasil di simpan', 'label': 2}\n",
            "1/1 [==============================] - 0s 46ms/step\n"
          ]
        },
        {
          "name": "stderr",
          "output_type": "stream",
          "text": [
            "127.0.0.1 - - [26/Jan/2023 13:25:17] \"POST /predict HTTP/1.1\" 200 -\n"
          ]
        },
        {
          "name": "stdout",
          "output_type": "stream",
          "text": [
            "{'success': True, 'file': 'File berhasil di simpan', 'label': 1}\n",
            "1/1 [==============================] - 0s 52ms/step\n"
          ]
        },
        {
          "name": "stderr",
          "output_type": "stream",
          "text": [
            "127.0.0.1 - - [26/Jan/2023 13:43:21] \"POST /predict HTTP/1.1\" 200 -\n"
          ]
        },
        {
          "name": "stdout",
          "output_type": "stream",
          "text": [
            "{'success': True, 'file': 'File berhasil di simpan', 'label': 1}\n",
            "1/1 [==============================] - 0s 66ms/step\n"
          ]
        },
        {
          "name": "stderr",
          "output_type": "stream",
          "text": [
            "127.0.0.1 - - [26/Jan/2023 13:50:19] \"POST /predict HTTP/1.1\" 200 -\n"
          ]
        },
        {
          "name": "stdout",
          "output_type": "stream",
          "text": [
            "{'success': True, 'file': 'File berhasil di simpan', 'label': 2}\n",
            "1/1 [==============================] - 0s 55ms/step\n"
          ]
        },
        {
          "name": "stderr",
          "output_type": "stream",
          "text": [
            "127.0.0.1 - - [26/Jan/2023 13:51:01] \"POST /predict HTTP/1.1\" 200 -\n"
          ]
        },
        {
          "name": "stdout",
          "output_type": "stream",
          "text": [
            "{'success': True, 'file': 'File berhasil di simpan', 'label': 2}\n",
            "1/1 [==============================] - 0s 64ms/step\n"
          ]
        },
        {
          "name": "stderr",
          "output_type": "stream",
          "text": [
            "127.0.0.1 - - [26/Jan/2023 13:54:47] \"POST /predict HTTP/1.1\" 200 -\n"
          ]
        },
        {
          "name": "stdout",
          "output_type": "stream",
          "text": [
            "{'success': True, 'file': 'File berhasil di simpan', 'label': 0}\n"
          ]
        }
      ],
      "source": [
        "@app.route('/', methods=['GET'])\n",
        "def index():\n",
        "   return \"<h1>Hello Word</h1>\"\n",
        "@app.route('/predict', methods=['GET', 'POST'])\n",
        "def upload():\n",
        "  data={\"success\":False}\n",
        "  namafile=''\n",
        "  if request.method == 'POST':\n",
        "     file = request.files['file']\n",
        "    \n",
        "     if file.filename == '':\n",
        "           data[\"file\"]=\"Tidak ada file\"\n",
        "     else:\n",
        "           data[\"file\"]=\"File berhasil di simpan\"\n",
        "           filename = secure_filename(file.filename)\n",
        "           file.save('data_test/'+file.filename)\n",
        "           namafile='data_test/'+file.filename\n",
        "     img = load_img(namafile, target_size=(150, 150)) \n",
        "\n",
        "     x   = img_to_array(img)                         \n",
        "     x   = x.reshape((1,) + x.shape) \n",
        "     x /= 255.0\n",
        "     predict=model.predict(x)\n",
        "     temp=0\n",
        "     label=0\n",
        "     hasil=[]\n",
        "     for y in range(3):\n",
        "       presentase=predict[0][y]*100\n",
        "       hasil.append(predict[0][y]*100)\n",
        "       if presentase>temp:\n",
        "           temp=presentase\n",
        "           label=y\n",
        "       data[\"success\"]=True\n",
        "       data[\"label\"]=label\n",
        "     print(data)\n",
        "     return flask.jsonify(data)\n",
        "  else:\n",
        "     return \"<h1>Method salah</h1>\"\n",
        "app.run()\n"
      ]
    }
  ],
  "metadata": {
    "colab": {
      "collapsed_sections": [],
      "name": "ContohBackendDM",
      "provenance": []
    },
    "kernelspec": {
      "display_name": "Python 3",
      "language": "python",
      "name": "python3"
    },
    "language_info": {
      "codemirror_mode": {
        "name": "ipython",
        "version": 3
      },
      "file_extension": ".py",
      "mimetype": "text/x-python",
      "name": "python",
      "nbconvert_exporter": "python",
      "pygments_lexer": "ipython3",
      "version": "3.8.5 (tags/v3.8.5:580fbb0, Jul 20 2020, 15:57:54) [MSC v.1924 64 bit (AMD64)]"
    },
    "vscode": {
      "interpreter": {
        "hash": "83e796a76f6b3a97009eb29596b34292461f80d8c533105152b457f64159c067"
      }
    }
  },
  "nbformat": 4,
  "nbformat_minor": 0
}
