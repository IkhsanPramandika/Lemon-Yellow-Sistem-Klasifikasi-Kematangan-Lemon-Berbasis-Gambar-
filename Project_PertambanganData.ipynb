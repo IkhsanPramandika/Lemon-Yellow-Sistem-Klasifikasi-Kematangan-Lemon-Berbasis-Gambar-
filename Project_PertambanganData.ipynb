{
  "cells": [
    {
      "cell_type": "code",
      "execution_count": 1,
      "metadata": {
        "id": "HTFo-a061zlf"
      },
      "outputs": [],
      "source": [
        "import os\n",
        "import zipfile\n",
        "from tensorflow.keras.preprocessing.image import ImageDataGenerator\n",
        "from tensorflow.keras import layers"
      ]
    },
    {
      "cell_type": "code",
      "execution_count": 2,
      "metadata": {
        "id": "-xVaTgn414oF"
      },
      "outputs": [
        {
          "ename": "FileNotFoundError",
          "evalue": "[Errno 2] No such file or directory: '/content/drive/MyDrive/Colab Notebooks/DataLemon.zip'",
          "output_type": "error",
          "traceback": [
            "\u001b[1;31m---------------------------------------------------------------------------\u001b[0m",
            "\u001b[1;31mFileNotFoundError\u001b[0m                         Traceback (most recent call last)",
            "Cell \u001b[1;32mIn[2], line 3\u001b[0m\n\u001b[0;32m      1\u001b[0m \u001b[39m#Melakukan extract dataset di collab notebook\u001b[39;00m\n\u001b[0;32m      2\u001b[0m local_zip \u001b[39m=\u001b[39m \u001b[39m'\u001b[39m\u001b[39m/content/drive/MyDrive/Colab Notebooks/DataLemon.zip\u001b[39m\u001b[39m'\u001b[39m\n\u001b[1;32m----> 3\u001b[0m zip_ref \u001b[39m=\u001b[39m zipfile\u001b[39m.\u001b[39;49mZipFile(local_zip,\u001b[39m'\u001b[39;49m\u001b[39mr\u001b[39;49m\u001b[39m'\u001b[39;49m)\n\u001b[0;32m      4\u001b[0m zip_ref\u001b[39m.\u001b[39mextractall(\u001b[39m'\u001b[39m\u001b[39m/content/drive/MyDrive/Colab Notebooks/\u001b[39m\u001b[39m'\u001b[39m)\n\u001b[0;32m      5\u001b[0m zip_ref\u001b[39m.\u001b[39mclose()\n",
            "File \u001b[1;32mc:\\Users\\mikhs\\AppData\\Local\\Programs\\Python\\Python38\\lib\\zipfile.py:1251\u001b[0m, in \u001b[0;36mZipFile.__init__\u001b[1;34m(self, file, mode, compression, allowZip64, compresslevel, strict_timestamps)\u001b[0m\n\u001b[0;32m   1249\u001b[0m \u001b[39mwhile\u001b[39;00m \u001b[39mTrue\u001b[39;00m:\n\u001b[0;32m   1250\u001b[0m     \u001b[39mtry\u001b[39;00m:\n\u001b[1;32m-> 1251\u001b[0m         \u001b[39mself\u001b[39m\u001b[39m.\u001b[39mfp \u001b[39m=\u001b[39m io\u001b[39m.\u001b[39;49mopen(file, filemode)\n\u001b[0;32m   1252\u001b[0m     \u001b[39mexcept\u001b[39;00m \u001b[39mOSError\u001b[39;00m:\n\u001b[0;32m   1253\u001b[0m         \u001b[39mif\u001b[39;00m filemode \u001b[39min\u001b[39;00m modeDict:\n",
            "\u001b[1;31mFileNotFoundError\u001b[0m: [Errno 2] No such file or directory: '/content/drive/MyDrive/Colab Notebooks/DataLemon.zip'"
          ]
        }
      ],
      "source": [
        "#Melakukan extract dataset di collab notebook\n",
        "local_zip = '/content/drive/MyDrive/Colab Notebooks/DataLemon.zip'\n",
        "zip_ref = zipfile.ZipFile(local_zip,'r')\n",
        "zip_ref.extractall('/content/drive/MyDrive/Colab Notebooks/')\n",
        "zip_ref.close()"
      ]
    },
    {
      "cell_type": "code",
      "execution_count": null,
      "metadata": {
        "colab": {
          "base_uri": "https://localhost:8080/"
        },
        "id": "nlvmy6tT14rg",
        "outputId": "a10e3656-e1a2-4b58-e2f1-bf8be76aace0"
      },
      "outputs": [
        {
          "name": "stdout",
          "output_type": "stream",
          "text": [
            "Found 2202 images belonging to 3 classes.\n"
          ]
        }
      ],
      "source": [
        "#Pencarian data training\n",
        "train_dir = os.path.join('/content/drive/MyDrive/Colab Notebooks/LEMONN2')\n",
        "train_datagen = ImageDataGenerator(rescale=1./255,\n",
        "                                   rotation_range = 20,\n",
        "                                   shear_range = 0.2,\n",
        "                                   zoom_range = 0.2,\n",
        "                                   fill_mode = 'nearest',\n",
        "                                   validation_split = 0.1)\n",
        "\n",
        "train_generator = train_datagen.flow_from_directory(\n",
        "    train_dir,\n",
        "    target_size = (150,150),\n",
        "    batch_size = 8,\n",
        "    class_mode = 'categorical',\n",
        "    subset = 'training'\n",
        ")"
      ]
    },
    {
      "cell_type": "code",
      "execution_count": null,
      "metadata": {
        "colab": {
          "base_uri": "https://localhost:8080/"
        },
        "id": "b81fO9tJ14uX",
        "outputId": "e9425215-0f7d-4b38-e07f-165d6e407db0"
      },
      "outputs": [
        {
          "name": "stdout",
          "output_type": "stream",
          "text": [
            "Found 244 images belonging to 3 classes.\n"
          ]
        }
      ],
      "source": [
        "#Proses penentuan data validation oleh python\n",
        "validation_generator = train_datagen.flow_from_directory(\n",
        "    train_dir,\n",
        "    target_size = (150,150),\n",
        "    batch_size = 16,\n",
        "    class_mode = 'categorical',\n",
        "    subset = 'validation'\n",
        ")"
      ]
    },
    {
      "cell_type": "code",
      "execution_count": null,
      "metadata": {
        "id": "xL1eWK1V14w6"
      },
      "outputs": [],
      "source": [
        "#Import tensorflow (nenbuat dan melatih deep learning model)\n",
        "import tensorflow as tf\n",
        "from tensorflow.keras.layers import Input\n",
        "from tensorflow.keras.applications import ResNet50\n",
        "from tensorflow.keras.applications import ResNet152V2\n",
        "from tensorflow.python.ops.gen_array_ops import Shape"
      ]
    },
    {
      "cell_type": "code",
      "execution_count": null,
      "metadata": {
        "id": "HNQjLP-j14zE"
      },
      "outputs": [],
      "source": [
        "#proses mengklasifikasi gambar menggunakan keras tensorflow\n",
        "import tensorflow as tf\n",
        "from tensorflow.keras.layers import Input\n",
        "model = tf.keras.models.Sequential([\n",
        "tf.keras.layers.Conv2D(32, (3, 3), activation='relu', input_shape=(150, 150, 3)),\n",
        "tf.keras.layers.MaxPooling2D(2, 2),\n",
        "tf.keras.layers.Conv2D(32, (3, 3), activation='relu'),\n",
        "tf.keras.layers.MaxPooling2D(2, 2),\n",
        "tf.keras.layers.Conv2D(64, (3, 3), activation='relu'),\n",
        "tf.keras.layers.MaxPooling2D(2, 2),\n",
        "tf.keras.layers.Conv2D(64, (3, 3), activation='relu'),\n",
        "tf.keras.layers.MaxPooling2D(2, 2),\n",
        "tf.keras.layers.Dropout(0.4),\n",
        "tf.keras.layers.Flatten(),\n",
        "tf.keras.layers.Dense(512, activation='relu'),\n",
        "tf.keras.layers.Dropout(0.4),\n",
        "tf.keras.layers.Dense(3, activation='softmax')\n",
        "])"
      ]
    },
    {
      "cell_type": "code",
      "execution_count": null,
      "metadata": {
        "colab": {
          "base_uri": "https://localhost:8080/"
        },
        "id": "-JHx9ACG1416",
        "outputId": "faced786-0fda-477f-a641-c01be12e06ce"
      },
      "outputs": [
        {
          "name": "stdout",
          "output_type": "stream",
          "text": [
            "Epoch 1/50\n",
            "276/276 - 106s - loss: 0.4715 - accuracy: 0.7893 - val_loss: 0.2590 - val_accuracy: 0.8893 - 106s/epoch - 385ms/step\n",
            "Epoch 2/50\n",
            "276/276 - 97s - loss: 0.3509 - accuracy: 0.8601 - val_loss: 0.3154 - val_accuracy: 0.8770 - 97s/epoch - 351ms/step\n",
            "Epoch 3/50\n",
            "276/276 - 94s - loss: 0.2328 - accuracy: 0.9055 - val_loss: 0.2280 - val_accuracy: 0.9016 - 94s/epoch - 339ms/step\n",
            "Epoch 4/50\n",
            "276/276 - 91s - loss: 0.1625 - accuracy: 0.9287 - val_loss: 0.1681 - val_accuracy: 0.9344 - 91s/epoch - 329ms/step\n",
            "Epoch 5/50\n",
            "276/276 - 98s - loss: 0.1312 - accuracy: 0.9464 - val_loss: 0.1478 - val_accuracy: 0.9549 - 98s/epoch - 354ms/step\n",
            "Epoch 6/50\n",
            "276/276 - 97s - loss: 0.1111 - accuracy: 0.9609 - val_loss: 0.1342 - val_accuracy: 0.9549 - 97s/epoch - 350ms/step\n",
            "Epoch 7/50\n",
            "276/276 - 92s - loss: 0.0859 - accuracy: 0.9650 - val_loss: 0.2008 - val_accuracy: 0.9426 - 92s/epoch - 332ms/step\n",
            "Epoch 8/50\n",
            "276/276 - 97s - loss: 0.0776 - accuracy: 0.9709 - val_loss: 0.0777 - val_accuracy: 0.9713 - 97s/epoch - 352ms/step\n",
            "Epoch 9/50\n",
            "276/276 - 94s - loss: 0.0891 - accuracy: 0.9655 - val_loss: 0.2178 - val_accuracy: 0.9590 - 94s/epoch - 339ms/step\n",
            "Epoch 10/50\n",
            "276/276 - 97s - loss: 0.1194 - accuracy: 0.9609 - val_loss: 0.0995 - val_accuracy: 0.9672 - 97s/epoch - 350ms/step\n",
            "Epoch 11/50\n",
            "276/276 - 97s - loss: 0.0697 - accuracy: 0.9777 - val_loss: 0.0584 - val_accuracy: 0.9795 - 97s/epoch - 351ms/step\n",
            "Epoch 12/50\n",
            "276/276 - 96s - loss: 0.0615 - accuracy: 0.9759 - val_loss: 0.1369 - val_accuracy: 0.9672 - 96s/epoch - 349ms/step\n",
            "Epoch 13/50\n",
            "276/276 - 98s - loss: 0.0709 - accuracy: 0.9728 - val_loss: 0.0371 - val_accuracy: 0.9918 - 98s/epoch - 353ms/step\n",
            "Epoch 14/50\n",
            "276/276 - 95s - loss: 0.0493 - accuracy: 0.9796 - val_loss: 0.1548 - val_accuracy: 0.9549 - 95s/epoch - 344ms/step\n",
            "Epoch 15/50\n",
            "276/276 - 94s - loss: 0.0973 - accuracy: 0.9691 - val_loss: 0.0877 - val_accuracy: 0.9795 - 94s/epoch - 341ms/step\n",
            "Epoch 16/50\n",
            "276/276 - 97s - loss: 0.0761 - accuracy: 0.9732 - val_loss: 0.0674 - val_accuracy: 0.9795 - 97s/epoch - 352ms/step\n",
            "Epoch 17/50\n",
            "276/276 - 92s - loss: 0.0588 - accuracy: 0.9805 - val_loss: 0.0605 - val_accuracy: 0.9754 - 92s/epoch - 333ms/step\n",
            "Epoch 18/50\n",
            "276/276 - 92s - loss: 0.0447 - accuracy: 0.9818 - val_loss: 0.0540 - val_accuracy: 0.9795 - 92s/epoch - 333ms/step\n",
            "Epoch 19/50\n",
            "276/276 - 91s - loss: 0.0667 - accuracy: 0.9746 - val_loss: 0.0793 - val_accuracy: 0.9672 - 91s/epoch - 331ms/step\n",
            "Epoch 20/50\n",
            "276/276 - 96s - loss: 0.0389 - accuracy: 0.9846 - val_loss: 0.0466 - val_accuracy: 0.9836 - 96s/epoch - 347ms/step\n",
            "Epoch 21/50\n",
            "276/276 - 93s - loss: 0.0599 - accuracy: 0.9768 - val_loss: 0.0584 - val_accuracy: 0.9877 - 93s/epoch - 335ms/step\n",
            "Epoch 22/50\n",
            "276/276 - 92s - loss: 0.0363 - accuracy: 0.9877 - val_loss: 0.0580 - val_accuracy: 0.9672 - 92s/epoch - 334ms/step\n",
            "Epoch 23/50\n",
            "276/276 - 97s - loss: 0.0407 - accuracy: 0.9850 - val_loss: 0.0649 - val_accuracy: 0.9795 - 97s/epoch - 351ms/step\n",
            "Epoch 24/50\n",
            "276/276 - 92s - loss: 0.0364 - accuracy: 0.9882 - val_loss: 0.0961 - val_accuracy: 0.9672 - 92s/epoch - 333ms/step\n",
            "Epoch 25/50\n",
            "276/276 - 97s - loss: 0.0465 - accuracy: 0.9827 - val_loss: 0.0934 - val_accuracy: 0.9713 - 97s/epoch - 352ms/step\n",
            "Epoch 26/50\n",
            "276/276 - 92s - loss: 0.0452 - accuracy: 0.9841 - val_loss: 0.0547 - val_accuracy: 0.9795 - 92s/epoch - 334ms/step\n",
            "Epoch 27/50\n",
            "276/276 - 97s - loss: 0.0349 - accuracy: 0.9837 - val_loss: 0.0573 - val_accuracy: 0.9836 - 97s/epoch - 352ms/step\n",
            "Epoch 28/50\n",
            "276/276 - 97s - loss: 0.0363 - accuracy: 0.9864 - val_loss: 0.1938 - val_accuracy: 0.9426 - 97s/epoch - 350ms/step\n",
            "Epoch 29/50\n",
            "276/276 - 92s - loss: 0.0566 - accuracy: 0.9818 - val_loss: 0.0593 - val_accuracy: 0.9836 - 92s/epoch - 334ms/step\n",
            "Epoch 30/50\n",
            "276/276 - 96s - loss: 0.0296 - accuracy: 0.9891 - val_loss: 0.0494 - val_accuracy: 0.9918 - 96s/epoch - 349ms/step\n",
            "Epoch 31/50\n",
            "276/276 - 93s - loss: 0.0610 - accuracy: 0.9773 - val_loss: 0.0848 - val_accuracy: 0.9713 - 93s/epoch - 335ms/step\n",
            "Epoch 32/50\n",
            "276/276 - 93s - loss: 0.0337 - accuracy: 0.9873 - val_loss: 0.0341 - val_accuracy: 0.9877 - 93s/epoch - 336ms/step\n",
            "Epoch 33/50\n",
            "276/276 - 96s - loss: 0.0506 - accuracy: 0.9850 - val_loss: 0.0308 - val_accuracy: 0.9918 - 96s/epoch - 347ms/step\n",
            "Epoch 34/50\n",
            "276/276 - 92s - loss: 0.0445 - accuracy: 0.9841 - val_loss: 0.0228 - val_accuracy: 0.9959 - 92s/epoch - 334ms/step\n",
            "Epoch 35/50\n",
            "276/276 - 96s - loss: 0.0399 - accuracy: 0.9855 - val_loss: 0.0497 - val_accuracy: 0.9795 - 96s/epoch - 347ms/step\n",
            "Epoch 36/50\n",
            "276/276 - 92s - loss: 0.0360 - accuracy: 0.9864 - val_loss: 0.0143 - val_accuracy: 0.9959 - 92s/epoch - 333ms/step\n",
            "Epoch 37/50\n",
            "276/276 - 96s - loss: 0.0140 - accuracy: 0.9959 - val_loss: 0.0293 - val_accuracy: 0.9918 - 96s/epoch - 350ms/step\n",
            "Epoch 38/50\n",
            "276/276 - 92s - loss: 0.0370 - accuracy: 0.9873 - val_loss: 0.0185 - val_accuracy: 0.9959 - 92s/epoch - 332ms/step\n",
            "Epoch 39/50\n",
            "276/276 - 92s - loss: 0.0221 - accuracy: 0.9914 - val_loss: 0.0147 - val_accuracy: 0.9918 - 92s/epoch - 334ms/step\n",
            "Epoch 40/50\n",
            "276/276 - 97s - loss: 0.0198 - accuracy: 0.9927 - val_loss: 0.0017 - val_accuracy: 1.0000 - 97s/epoch - 350ms/step\n",
            "Epoch 41/50\n",
            "276/276 - 92s - loss: 0.0861 - accuracy: 0.9768 - val_loss: 0.1141 - val_accuracy: 0.9549 - 92s/epoch - 334ms/step\n",
            "Epoch 42/50\n",
            "276/276 - 97s - loss: 0.0500 - accuracy: 0.9823 - val_loss: 0.0448 - val_accuracy: 0.9795 - 97s/epoch - 350ms/step\n",
            "Epoch 43/50\n",
            "276/276 - 92s - loss: 0.0215 - accuracy: 0.9927 - val_loss: 0.0065 - val_accuracy: 1.0000 - 92s/epoch - 333ms/step\n",
            "Epoch 44/50\n",
            "276/276 - 97s - loss: 0.0175 - accuracy: 0.9927 - val_loss: 0.0135 - val_accuracy: 0.9959 - 97s/epoch - 350ms/step\n",
            "Epoch 45/50\n",
            "276/276 - 91s - loss: 0.0257 - accuracy: 0.9905 - val_loss: 0.0064 - val_accuracy: 0.9959 - 91s/epoch - 331ms/step\n",
            "Epoch 46/50\n",
            "276/276 - 92s - loss: 0.0225 - accuracy: 0.9914 - val_loss: 0.0867 - val_accuracy: 0.9713 - 92s/epoch - 333ms/step\n",
            "Epoch 47/50\n",
            "276/276 - 91s - loss: 0.0291 - accuracy: 0.9877 - val_loss: 0.0314 - val_accuracy: 0.9918 - 91s/epoch - 329ms/step\n",
            "Epoch 48/50\n",
            "276/276 - 92s - loss: 0.0194 - accuracy: 0.9918 - val_loss: 0.0670 - val_accuracy: 0.9836 - 92s/epoch - 332ms/step\n",
            "Epoch 49/50\n",
            "276/276 - 92s - loss: 0.0724 - accuracy: 0.9800 - val_loss: 0.0657 - val_accuracy: 0.9754 - 92s/epoch - 332ms/step\n",
            "Epoch 50/50\n",
            "276/276 - 95s - loss: 0.0388 - accuracy: 0.9877 - val_loss: 0.0897 - val_accuracy: 0.9713 - 95s/epoch - 346ms/step\n",
            "Epoch 1/50\n",
            "276/276 - 92s - loss: 0.0297 - accuracy: 0.9896 - val_loss: 0.0165 - val_accuracy: 0.9918 - 92s/epoch - 334ms/step\n",
            "Epoch 2/50\n",
            "276/276 - 96s - loss: 0.0257 - accuracy: 0.9918 - val_loss: 0.0695 - val_accuracy: 0.9795 - 96s/epoch - 348ms/step\n",
            "Epoch 3/50\n",
            "276/276 - 92s - loss: 0.0773 - accuracy: 0.9823 - val_loss: 0.0649 - val_accuracy: 0.9877 - 92s/epoch - 333ms/step\n",
            "Epoch 4/50\n",
            "276/276 - 92s - loss: 0.0114 - accuracy: 0.9959 - val_loss: 0.0714 - val_accuracy: 0.9836 - 92s/epoch - 334ms/step\n",
            "Epoch 5/50\n",
            "276/276 - 96s - loss: 0.0251 - accuracy: 0.9918 - val_loss: 0.0899 - val_accuracy: 0.9754 - 96s/epoch - 348ms/step\n",
            "Epoch 6/50\n",
            "276/276 - 92s - loss: 0.0236 - accuracy: 0.9927 - val_loss: 0.0414 - val_accuracy: 0.9877 - 92s/epoch - 334ms/step\n",
            "Epoch 7/50\n",
            "276/276 - 97s - loss: 0.0474 - accuracy: 0.9882 - val_loss: 0.0379 - val_accuracy: 0.9918 - 97s/epoch - 350ms/step\n",
            "Epoch 8/50\n",
            "276/276 - 92s - loss: 0.0176 - accuracy: 0.9941 - val_loss: 0.0044 - val_accuracy: 1.0000 - 92s/epoch - 332ms/step\n",
            "Epoch 9/50\n",
            "276/276 - 90s - loss: 0.0254 - accuracy: 0.9927 - val_loss: 0.0051 - val_accuracy: 1.0000 - 90s/epoch - 327ms/step\n",
            "Epoch 10/50\n",
            "276/276 - 91s - loss: 0.0624 - accuracy: 0.9877 - val_loss: 0.0866 - val_accuracy: 0.9631 - 91s/epoch - 331ms/step\n",
            "Epoch 11/50\n",
            "276/276 - 98s - loss: 0.0174 - accuracy: 0.9941 - val_loss: 0.0200 - val_accuracy: 0.9959 - 98s/epoch - 354ms/step\n",
            "Epoch 12/50\n",
            "276/276 - 92s - loss: 0.0228 - accuracy: 0.9909 - val_loss: 0.0664 - val_accuracy: 0.9836 - 92s/epoch - 335ms/step\n",
            "Epoch 13/50\n",
            "276/276 - 95s - loss: 0.0161 - accuracy: 0.9955 - val_loss: 0.0233 - val_accuracy: 0.9959 - 95s/epoch - 344ms/step\n",
            "Epoch 14/50\n",
            "276/276 - 94s - loss: 0.0174 - accuracy: 0.9950 - val_loss: 0.0492 - val_accuracy: 0.9836 - 94s/epoch - 341ms/step\n",
            "Epoch 15/50\n",
            "276/276 - 99s - loss: 0.0194 - accuracy: 0.9918 - val_loss: 0.0136 - val_accuracy: 0.9959 - 99s/epoch - 357ms/step\n",
            "Epoch 16/50\n",
            "276/276 - 93s - loss: 0.0393 - accuracy: 0.9882 - val_loss: 0.0387 - val_accuracy: 0.9836 - 93s/epoch - 338ms/step\n",
            "Epoch 17/50\n",
            "276/276 - 100s - loss: 0.0144 - accuracy: 0.9941 - val_loss: 0.0166 - val_accuracy: 0.9918 - 100s/epoch - 362ms/step\n",
            "Epoch 18/50\n",
            "276/276 - 94s - loss: 0.0200 - accuracy: 0.9932 - val_loss: 0.0164 - val_accuracy: 0.9918 - 94s/epoch - 341ms/step\n",
            "Epoch 19/50\n",
            "276/276 - 99s - loss: 0.0409 - accuracy: 0.9886 - val_loss: 0.0385 - val_accuracy: 0.9795 - 99s/epoch - 360ms/step\n",
            "Epoch 20/50\n",
            "276/276 - 94s - loss: 0.0147 - accuracy: 0.9941 - val_loss: 0.0138 - val_accuracy: 0.9959 - 94s/epoch - 341ms/step\n",
            "Epoch 21/50\n",
            "276/276 - 95s - loss: 0.0136 - accuracy: 0.9973 - val_loss: 0.0347 - val_accuracy: 0.9877 - 95s/epoch - 345ms/step\n",
            "Epoch 22/50\n",
            "276/276 - 96s - loss: 0.0263 - accuracy: 0.9918 - val_loss: 0.0199 - val_accuracy: 0.9877 - 96s/epoch - 347ms/step\n",
            "Epoch 23/50\n",
            "276/276 - 92s - loss: 0.0096 - accuracy: 0.9959 - val_loss: 0.0288 - val_accuracy: 0.9877 - 92s/epoch - 334ms/step\n",
            "Epoch 24/50\n",
            "276/276 - 97s - loss: 0.0121 - accuracy: 0.9950 - val_loss: 0.0687 - val_accuracy: 0.9754 - 97s/epoch - 351ms/step\n",
            "Epoch 25/50\n",
            "276/276 - 92s - loss: 0.0345 - accuracy: 0.9909 - val_loss: 0.0228 - val_accuracy: 0.9918 - 92s/epoch - 333ms/step\n",
            "Epoch 26/50\n",
            "276/276 - 96s - loss: 0.0114 - accuracy: 0.9950 - val_loss: 0.0616 - val_accuracy: 0.9836 - 96s/epoch - 349ms/step\n",
            "Epoch 27/50\n",
            "276/276 - 91s - loss: 0.0132 - accuracy: 0.9959 - val_loss: 0.0299 - val_accuracy: 0.9754 - 91s/epoch - 331ms/step\n",
            "Epoch 28/50\n",
            "276/276 - 99s - loss: 0.2169 - accuracy: 0.9573 - val_loss: 0.1431 - val_accuracy: 0.9385 - 99s/epoch - 360ms/step\n",
            "Epoch 29/50\n",
            "276/276 - 99s - loss: 0.1273 - accuracy: 0.9596 - val_loss: 0.1134 - val_accuracy: 0.9508 - 99s/epoch - 357ms/step\n",
            "Epoch 30/50\n",
            "276/276 - 92s - loss: 0.1289 - accuracy: 0.9646 - val_loss: 0.1565 - val_accuracy: 0.9508 - 92s/epoch - 332ms/step\n",
            "Epoch 31/50\n",
            "276/276 - 97s - loss: 0.0538 - accuracy: 0.9809 - val_loss: 0.0875 - val_accuracy: 0.9672 - 97s/epoch - 351ms/step\n",
            "Epoch 32/50\n",
            "276/276 - 91s - loss: 0.0442 - accuracy: 0.9850 - val_loss: 0.0503 - val_accuracy: 0.9795 - 91s/epoch - 329ms/step\n",
            "Epoch 33/50\n",
            "276/276 - 92s - loss: 0.0388 - accuracy: 0.9855 - val_loss: 0.0539 - val_accuracy: 0.9713 - 92s/epoch - 335ms/step\n",
            "Epoch 34/50\n",
            "276/276 - 99s - loss: 0.0296 - accuracy: 0.9891 - val_loss: 0.0368 - val_accuracy: 0.9836 - 99s/epoch - 357ms/step\n",
            "Epoch 35/50\n",
            "276/276 - 94s - loss: 0.0355 - accuracy: 0.9877 - val_loss: 0.0416 - val_accuracy: 0.9795 - 94s/epoch - 340ms/step\n",
            "Epoch 36/50\n",
            "276/276 - 98s - loss: 0.0203 - accuracy: 0.9914 - val_loss: 0.0253 - val_accuracy: 0.9877 - 98s/epoch - 355ms/step\n",
            "Epoch 37/50\n",
            "276/276 - 92s - loss: 0.0238 - accuracy: 0.9900 - val_loss: 0.0343 - val_accuracy: 0.9877 - 92s/epoch - 332ms/step\n",
            "Epoch 38/50\n",
            "276/276 - 97s - loss: 0.0289 - accuracy: 0.9886 - val_loss: 0.0515 - val_accuracy: 0.9795 - 97s/epoch - 352ms/step\n",
            "Epoch 39/50\n",
            "276/276 - 92s - loss: 0.0252 - accuracy: 0.9914 - val_loss: 0.1090 - val_accuracy: 0.9713 - 92s/epoch - 333ms/step\n",
            "Epoch 40/50\n",
            "276/276 - 93s - loss: 0.0335 - accuracy: 0.9886 - val_loss: 0.0351 - val_accuracy: 0.9918 - 93s/epoch - 336ms/step\n",
            "Epoch 41/50\n",
            "276/276 - 91s - loss: 0.0239 - accuracy: 0.9909 - val_loss: 0.0281 - val_accuracy: 0.9918 - 91s/epoch - 331ms/step\n",
            "Epoch 42/50\n",
            "276/276 - 93s - loss: 0.0304 - accuracy: 0.9927 - val_loss: 0.0113 - val_accuracy: 0.9959 - 93s/epoch - 336ms/step\n",
            "Epoch 43/50\n",
            "276/276 - 97s - loss: 0.0077 - accuracy: 0.9977 - val_loss: 0.0279 - val_accuracy: 0.9918 - 97s/epoch - 352ms/step\n",
            "Epoch 44/50\n",
            "276/276 - 92s - loss: 0.0384 - accuracy: 0.9846 - val_loss: 0.0382 - val_accuracy: 0.9918 - 92s/epoch - 333ms/step\n",
            "Epoch 45/50\n",
            "276/276 - 96s - loss: 0.0278 - accuracy: 0.9882 - val_loss: 0.0226 - val_accuracy: 0.9836 - 96s/epoch - 347ms/step\n",
            "Epoch 46/50\n",
            "276/276 - 92s - loss: 0.0288 - accuracy: 0.9932 - val_loss: 0.0257 - val_accuracy: 0.9877 - 92s/epoch - 333ms/step\n",
            "Epoch 47/50\n",
            "276/276 - 97s - loss: 0.0293 - accuracy: 0.9886 - val_loss: 0.0430 - val_accuracy: 0.9918 - 97s/epoch - 353ms/step\n",
            "Epoch 48/50\n",
            "276/276 - 92s - loss: 0.0255 - accuracy: 0.9900 - val_loss: 0.0066 - val_accuracy: 0.9959 - 92s/epoch - 335ms/step\n",
            "Epoch 49/50\n",
            "276/276 - 97s - loss: 0.0257 - accuracy: 0.9914 - val_loss: 0.0523 - val_accuracy: 0.9836 - 97s/epoch - 350ms/step\n",
            "Epoch 50/50\n",
            "276/276 - 92s - loss: 0.0281 - accuracy: 0.9896 - val_loss: 0.0440 - val_accuracy: 0.9795 - 92s/epoch - 332ms/step\n"
          ]
        }
      ],
      "source": [
        "#Menemukan accuracy dari data training\n",
        "model.compile(optimizer = tf.optimizers.Adam(),\n",
        "               loss = 'categorical_crossentropy',\n",
        "               metrics = ['accuracy'])\n",
        "\n",
        "history = model.fit(train_generator,\n",
        "                    validation_data = validation_generator,\n",
        "                    epochs = 50,\n",
        "                    verbose = 2)#Menemukan accuracy dari data training\n",
        "model.compile(optimizer = tf.optimizers.Adam(),\n",
        "               loss = 'categorical_crossentropy',\n",
        "               metrics = ['accuracy'])\n",
        "\n",
        "history = model.fit(train_generator,\n",
        "                    validation_data = validation_generator,\n",
        "                    epochs = 50,\n",
        "                    verbose = 2)"
      ]
    },
    {
      "cell_type": "code",
      "execution_count": null,
      "metadata": {
        "colab": {
          "base_uri": "https://localhost:8080/",
          "height": 312
        },
        "id": "-HD6qyxy144B",
        "outputId": "9721bd4c-d14e-41ed-9c70-e6c79b6e15a1"
      },
      "outputs": [
        {
          "name": "stdout",
          "output_type": "stream",
          "text": [
            "dict_keys(['loss', 'accuracy', 'val_loss', 'val_accuracy'])\n"
          ]
        },
        {
          "data": {
            "image/png": "[encoded data removed]",
            "text/plain": [
              "<Figure size 432x288 with 1 Axes>"
            ]
          },
          "metadata": {
            "needs_background": "light"
          },
          "output_type": "display_data"
        }
      ],
      "source": [
        "#Visualisasi accuracy menggunakan grapik\n",
        "import matplotlib.pyplot as plt\n",
        "print(history.history.keys())\n",
        "#summarize history for accuracy\n",
        "plt.plot(history.history['accuracy'])\n",
        "plt.plot(history.history['val_accuracy'])\n",
        "plt.title('model accuracy')\n",
        "plt.ylabel('acc')\n",
        "plt.xlabel('epoch')\n",
        "plt.legend(['train','test'],loc='upper left')\n",
        "plt.show()"
      ]
    },
    {
      "cell_type": "code",
      "execution_count": null,
      "metadata": {
        "id": "cZ19YBdp147C"
      },
      "outputs": [],
      "source": [
        "#membuat variable menampung accuracy loss\n",
        "acc = history.history['accuracy']\n",
        "val_acc = history.history['val_accuracy']\n",
        "\n",
        "loss = history.history['loss']\n",
        "val_loss = history.history['val_loss']"
      ]
    },
    {
      "cell_type": "code",
      "execution_count": null,
      "metadata": {
        "colab": {
          "base_uri": "https://localhost:8080/",
          "height": 279
        },
        "id": "e3L2IbGi149C",
        "outputId": "b1c0c2c3-95a2-4f51-fe90-7080bbb073af"
      },
      "outputs": [
        {
          "data": {
            "text/plain": [
              "Text(0.5, 1.0, 'Training and Validation Accuracy')"
            ]
          },
          "execution_count": 10,
          "metadata": {},
          "output_type": "execute_result"
        },
        {
          "data": {
            "image/png": "[encoded data removed]",
            "text/plain": [
              "<Figure size 576x576 with 1 Axes>"
            ]
          },
          "metadata": {
            "needs_background": "light"
          },
          "output_type": "display_data"
        }
      ],
      "source": [
        "plt.figure(figsize=(8,8))\n",
        "plt.subplot(2, 1, 1)\n",
        "plt.plot(acc, label = 'Training Accuracy')\n",
        "plt.plot(val_acc, label = 'Validation Accuracy')\n",
        "plt.legend(loc = 'lower right')\n",
        "plt.ylabel('Accuracy')\n",
        "plt.ylim([min(plt.ylim()),1])\n",
        "plt.title('Training and Validation Accuracy')"
      ]
    },
    {
      "cell_type": "code",
      "execution_count": null,
      "metadata": {
        "colab": {
          "base_uri": "https://localhost:8080/",
          "height": 279
        },
        "id": "OhLg9Q6o15Al",
        "outputId": "c7c5ab5c-b0d7-4db0-ce63-83baa897115f"
      },
      "outputs": [
        {
          "data": {
            "text/plain": [
              "Text(0.5, 1.0, 'Training and Validation Loss')"
            ]
          },
          "execution_count": 14,
          "metadata": {},
          "output_type": "execute_result"
        },
        {
          "data": {
            "image/png": "[encoded data removed]",
            "text/plain": [
              "<Figure size 576x576 with 1 Axes>"
            ]
          },
          "metadata": {
            "needs_background": "light"
          },
          "output_type": "display_data"
        }
      ],
      "source": [
        "plt.figure(figsize=(8,8))\n",
        "plt.subplot(2, 1, 1)\n",
        "plt.plot(loss, label = 'Training Loss')\n",
        "plt.plot(val_loss, label = 'Validation Loss')\n",
        "plt.legend(loc = 'lower right')\n",
        "plt.ylabel('Loss')\n",
        "plt.ylim([min(plt.ylim()),1])\n",
        "plt.title('Training and Validation Loss')"
      ]
    },
    {
      "cell_type": "code",
      "execution_count": null,
      "metadata": {
        "colab": {
          "base_uri": "https://localhost:8080/"
        },
        "id": "KJGHwhWa15Cg",
        "outputId": "da43dd26-a054-4315-f774-1ee433a0dd56"
      },
      "outputs": [
        {
          "name": "stdout",
          "output_type": "stream",
          "text": [
            "16/16 [==============================] - 5s 282ms/step - loss: 0.0234 - accuracy: 0.9877\n",
            "Test Accuracy: 0.9877049326896667\n"
          ]
        }
      ],
      "source": [
        "loss,accuracy = model.evaluate(validation_generator)\n",
        "print('Test Accuracy:',accuracy)"
      ]
    },
    {
      "cell_type": "code",
      "execution_count": null,
      "metadata": {
        "id": "acfnnTzF15FZ"
      },
      "outputs": [],
      "source": [
        "model.save('DataSetLemon.h5')"
      ]
    },
    {
      "cell_type": "code",
      "execution_count": null,
      "metadata": {
        "id": "ubEcrsl515H_"
      },
      "outputs": [],
      "source": []
    },
    {
      "cell_type": "code",
      "execution_count": null,
      "metadata": {
        "id": "uRb2IeZ615KI"
      },
      "outputs": [],
      "source": []
    },
    {
      "cell_type": "code",
      "execution_count": null,
      "metadata": {
        "id": "dqvqwsCg15NW"
      },
      "outputs": [],
      "source": []
    },
    {
      "cell_type": "code",
      "execution_count": null,
      "metadata": {
        "id": "KCkA_CD_15O5"
      },
      "outputs": [],
      "source": []
    }
  ],
  "metadata": {
    "colab": {
      "provenance": []
    },
    "kernelspec": {
      "display_name": "Python 3",
      "language": "python",
      "name": "python3"
    },
    "language_info": {
      "codemirror_mode": {
        "name": "ipython",
        "version": 3
      },
      "file_extension": ".py",
      "mimetype": "text/x-python",
      "name": "python",
      "nbconvert_exporter": "python",
      "pygments_lexer": "ipython3",
      "version": "3.8.5 (tags/v3.8.5:580fbb0, Jul 20 2020, 15:57:54) [MSC v.1924 64 bit (AMD64)]"
    },
    "vscode": {
      "interpreter": {
        "hash": "83e796a76f6b3a97009eb29596b34292461f80d8c533105152b457f64159c067"
      }
    }
  },
  "nbformat": 4,
  "nbformat_minor": 0
}
